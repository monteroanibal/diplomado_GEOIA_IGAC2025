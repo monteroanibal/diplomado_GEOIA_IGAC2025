{
  "nbformat": 4,
  "nbformat_minor": 0,
  "metadata": {
    "colab": {
      "provenance": [],
      "collapsed_sections": [
        "43yzHp6iUHyP"
      ],
      "authorship_tag": "ABX9TyN+F+UkH+Jstjy9MyO62dCT",
      "include_colab_link": true
    },
    "kernelspec": {
      "name": "python3",
      "display_name": "Python 3"
    },
    "language_info": {
      "name": "python"
    }
  },
  "cells": [
    {
      "cell_type": "markdown",
      "metadata": {
        "id": "view-in-github",
        "colab_type": "text"
      },
      "source": [
        "<a href=\"https://colab.research.google.com/github/monteroanibal/diplomado_GEOIA_IGAC2025/blob/main/Interm_Modulo_11_notebook.ipynb\" target=\"_parent\"><img src=\"https://colab.research.google.com/assets/colab-badge.svg\" alt=\"Open In Colab\"/></a>"
      ]
    },
    {
      "cell_type": "markdown",
      "source": [
        "# Jupyter Notebook de la sesión"
      ],
      "metadata": {
        "id": "c7G2cFR4UBoW"
      }
    },
    {
      "cell_type": "markdown",
      "source": [
        "---"
      ],
      "metadata": {
        "id": "JPjhOI4UUEz4"
      }
    },
    {
      "cell_type": "markdown",
      "source": [
        "# 1. Cargue de librerías"
      ],
      "metadata": {
        "id": "43yzHp6iUHyP"
      }
    },
    {
      "cell_type": "markdown",
      "source": [
        "Para generar y manipular datos en arreglos matriciales."
      ],
      "metadata": {
        "id": "jZDCwyBLUlu-"
      }
    },
    {
      "cell_type": "code",
      "source": [
        "import numpy as np"
      ],
      "metadata": {
        "id": "GivoOP29UnSA"
      },
      "execution_count": 1,
      "outputs": []
    },
    {
      "cell_type": "markdown",
      "source": [
        "Para desplegar las animaciones de los arreglos matriciales."
      ],
      "metadata": {
        "id": "UdO0_SKTUP_z"
      }
    },
    {
      "cell_type": "code",
      "source": [
        "import matplotlib.pyplot as plt\n",
        "import matplotlib.animation as anim\n",
        "writer = anim.PillowWriter(fps=2, metadata=dict(artist='Anibal'), bitrate=1800)\n",
        "from IPython.display import HTML"
      ],
      "metadata": {
        "id": "dh257DzzYl3m"
      },
      "execution_count": 2,
      "outputs": []
    },
    {
      "cell_type": "markdown",
      "source": [
        "Para importar y visualizar datos ráster."
      ],
      "metadata": {
        "id": "CdhndS2nUsLX"
      }
    },
    {
      "cell_type": "code",
      "source": [
        "%%capture\n",
        "!pip install rasterio\n",
        "import rasterio as rs\n",
        "\n",
        "from rasterio.plot import show"
      ],
      "metadata": {
        "id": "fcHnNGpim_fg"
      },
      "execution_count": 3,
      "outputs": []
    },
    {
      "cell_type": "markdown",
      "source": [
        "# 2. Juego de la Vida de John Conway"
      ],
      "metadata": {
        "id": "UaKdYECOU16y"
      }
    },
    {
      "cell_type": "markdown",
      "source": [
        "El siguiente fragmento de código es adaptado de la siguiente fuente: https://analyticadss.com/conways-game-of-life-with-examples-in-r-and-python/. Este código recrea el _Juego de la Vida_ de John Conway, en donde las celdas de una tesela regular en un periodo o generación determinada \"cobran vida\" (valor uno [1]) o \"mueren\" (valor cero [0]) dependiendo del mismo estado de vida o muerte de las teselas vecinas en el periodo o generación anterior.\n",
        "\n",
        "Para iniciar, se especifican los valores que parametrizan el proceso:\n",
        "\n",
        "*   Número de generaciones o periodos a generar\n",
        "*   Tamaño de la tesela, que para este caso se estableción de forma cuadrada.\n",
        "*   Tiempo entre para reproducir la animación de la simulación generada.\n",
        "\n",
        "Cabe mencionar que las celdas también son de forma cuadrada y que el estado inicial de la simulación es aleatoria, de modo que se está tabajando con una cuadrícula.\n",
        "\n",
        "Se invita al estudiante a realizar diferentes configuraciones y experimentos para que observe las simulaciones con sus diferentes patrones de comportamiento, del tiempo empleado e incluso de los límites computacionales del servidor prestado por Google."
      ],
      "metadata": {
        "id": "d2AhKVwXZctw"
      }
    },
    {
      "cell_type": "code",
      "source": [
        "generations = 20\n",
        "grid_side_size = 100\n",
        "ms_frame_interv = 200"
      ],
      "metadata": {
        "id": "pyN2UMD3YD1a"
      },
      "execution_count": 4,
      "outputs": []
    },
    {
      "cell_type": "markdown",
      "source": [
        "A continuación se explica cada sentencia que hace parte del proceso con los respectivos comentarios."
      ],
      "metadata": {
        "id": "K4OUFAeQU8wG"
      }
    },
    {
      "cell_type": "code",
      "source": [
        "# Se genera un arreglo con estado inicial aleatorio\n",
        "grid = np.random.choice([0, 1], size=(grid_side_size, grid_side_size))\n",
        "\n",
        "# Se inicializa una lista para almacenar el estado de las celdas en cada generacioon\n",
        "grid_history = [grid]\n",
        "\n",
        "# el siguiente bucle realiza una simulacioon del -Juego de la Vida-\n",
        "for i in range(generations):\n",
        "    # Se obtiene el estado actual de las celdas\n",
        "    current_state = grid_history[i]\n",
        "\n",
        "    # Inicializa el siguiente estado de las celdas con valor cero, no necesariamente es el definitivo\n",
        "    next_state = np.zeros((grid_side_size, grid_side_size))\n",
        "\n",
        "    # Se itera sobre cada celda de la tesela\n",
        "    for x in range(grid_side_size):\n",
        "        for y in range(grid_side_size):\n",
        "            # Se obtiene el número de vecinos vivos para la celda actual\n",
        "            neighbors = (current_state[max(x-1, 0):min(x+2, grid_side_size), max(y-1, 0):min(y+2, grid_side_size)]).sum() - current_state[x, y]\n",
        "\n",
        "            # Se aplican las reglas del -Juego de la Vida- para determinar el prooximo estado de la celda\n",
        "            if current_state[x, y] == 1:\n",
        "                if neighbors < 2 or neighbors > 3:\n",
        "                    next_state[x, y] = 0\n",
        "                else:\n",
        "                    next_state[x, y] = 1\n",
        "            else:\n",
        "                if neighbors == 3:\n",
        "                    next_state[x, y] = 1\n",
        "                else:\n",
        "                    next_state[x, y] = 0\n",
        "\n",
        "    # Se actualiza el estado de las celdas\n",
        "    grid = next_state\n",
        "\n",
        "    # Se guarda el estado de las celdas para la generacioon recieen calculada\n",
        "    grid_history.append(grid)\n",
        "\n",
        "# Se omite la generacioon cero para la visualizacioon\n",
        "grid_history = grid_history[1:]\n",
        "\n",
        "# Se genera la animacioon para visualizar la simulacioon generada\n",
        "def update(frame_number, matrix_data, img):\n",
        "  img.set_array(matrix_data[frame_number])\n",
        "  return img,\n",
        "fig, ax = plt.subplots(figsize=(6,6))\n",
        "img = ax.imshow(grid_history[0], cmap='gray', animated=True)\n",
        "plt.axis('off')\n",
        "ani0 = anim.FuncAnimation(fig, update, frames=len(grid_history), fargs=(grid_history, img), interval=ms_frame_interv, blit=True)\n",
        "plt.close()\n",
        "HTML(ani0.to_jshtml())"
      ],
      "metadata": {
        "id": "ZsQy4UyxX3j5"
      },
      "execution_count": null,
      "outputs": []
    },
    {
      "cell_type": "markdown",
      "source": [
        "Se genera el .html de la animación para la simulación obtenida."
      ],
      "metadata": {
        "id": "1F-FXxcFXoz0"
      }
    },
    {
      "cell_type": "code",
      "source": [
        "#ani0.save(filename='ConwaysGameOfLifeXampl.html', writer='html')\n",
        "ani0.save('ConwaysGameOfLifeXampl.gif', writer=writer)"
      ],
      "metadata": {
        "id": "FY5pD5QHhCmH"
      },
      "execution_count": 6,
      "outputs": []
    },
    {
      "cell_type": "code",
      "source": [
        "%%capture\n",
        "!zip -r ConwaysGameOfLifeXampl_frames.zip /content/ConwaysGameOfLifeXampl_frames"
      ],
      "metadata": {
        "id": "Cshbsh3_ZgHg"
      },
      "execution_count": 7,
      "outputs": []
    },
    {
      "cell_type": "markdown",
      "source": [
        "# 3. Autómatas Celulares para modelar expansión urbana"
      ],
      "metadata": {
        "id": "LXFtrgEgmtYg"
      }
    },
    {
      "cell_type": "markdown",
      "source": [
        "A continuación, se exploran los rasters de la clasificación de expansión urbana para el municipio de Villavicencio en periodos de tres años, con el objetivo de observar los patrones que permiten deducir un posible comportamiento y posterior modelado de este fenómeno de expansión a partir de esta clasifiación del uso del suelo en diferentes periodos de tiempo.\n"
      ],
      "metadata": {
        "id": "iaADz2DZaC0L"
      }
    },
    {
      "cell_type": "markdown",
      "source": [
        "Se descargan los respectivcos rasters."
      ],
      "metadata": {
        "id": "XVUxyjs8eD__"
      }
    },
    {
      "cell_type": "code",
      "source": [
        "%%capture\n",
        "!wget https://github.com/monteroanibal/diplomado_GEOIA_IGAC2025/raw/refs/heads/main/Insumos/Interm_Modulo_11_Datos/Interm_Modulo_11_rasters.zip\n",
        "!unzip -o /content/Interm_Modulo_11_rasters.zip\n",
        "!rm /content/Interm_Modulo_11_rasters.zip"
      ],
      "metadata": {
        "id": "oJct6SAf4GIm"
      },
      "execution_count": 8,
      "outputs": []
    },
    {
      "cell_type": "markdown",
      "source": [
        "Se extrae el arreglo de cada ráster para general el listado de arreglos con el que se realiza la animación para explorar ."
      ],
      "metadata": {
        "id": "XFNFC8oTeHmv"
      }
    },
    {
      "cell_type": "code",
      "source": [
        "_2015 = rs.open('/content/Interm_Modulo_11_rasters/expansion2015.tif').read()[0]\n",
        "_2018 = rs.open('/content/Interm_Modulo_11_rasters/expansion2018.tif').read()[0]\n",
        "_2021 = rs.open('/content/Interm_Modulo_11_rasters/expansion2021.tif').read()[0]\n",
        "_2024 = rs.open('/content/Interm_Modulo_11_rasters/expansion2024.tif').read()[0]\n",
        "_2027 = rs.open('/content/Interm_Modulo_11_rasters/expansion2027esc0.tiff').read()[0]\n",
        "_2030 = rs.open('/content/Interm_Modulo_11_rasters/expansion2030esc0.tiff').read()[0]\n",
        "_2033 = rs.open('/content/Interm_Modulo_11_rasters/expansion2033esc0.tiff').read()[0]\n",
        "villavo_history = [_2015, _2018, _2021, _2024, _2027, _2030, _2033]"
      ],
      "metadata": {
        "id": "YYiZET2qmttC"
      },
      "execution_count": 10,
      "outputs": []
    },
    {
      "cell_type": "markdown",
      "source": [
        "Se confiugura el tiempo entre para reproducir la animación de la simulación generada."
      ],
      "metadata": {
        "id": "oyi9CN3Leoyx"
      }
    },
    {
      "cell_type": "code",
      "source": [
        "ms_frame_interv = 500"
      ],
      "metadata": {
        "id": "vYYsG5HAov55"
      },
      "execution_count": 11,
      "outputs": []
    },
    {
      "cell_type": "markdown",
      "source": [
        "Se genera la animación para visualizar las capas de expansión urbana."
      ],
      "metadata": {
        "id": "uKob-yKWezu2"
      }
    },
    {
      "cell_type": "code",
      "source": [
        "def update(frame_number, matrix_data, img):\n",
        "  img.set_array(matrix_data[frame_number])\n",
        "  anyo = 2015+(frame_number*3)\n",
        "  es_simu = np.where(anyo>2025,'\\n (simulación)','')\n",
        "  ax.set_xlabel(f\"{anyo} {es_simu}\")\n",
        "  return img,\n",
        "fig, ax = plt.subplots(figsize=(9,6))\n",
        "img = ax.imshow(villavo_history[0], cmap='gray', animated=True)\n",
        "plt.tick_params(axis='x', which='both', bottom=False, top=False, labelbottom=False)\n",
        "ax.get_yaxis().set_visible(False)\n",
        "ani1 = anim.FuncAnimation(fig, update,  frames=len(villavo_history), fargs=(villavo_history, img), interval=ms_frame_interv, blit=True)\n",
        "plt.close()\n",
        "HTML(ani1.to_jshtml())"
      ],
      "metadata": {
        "id": "UJhvpj4en2eL"
      },
      "execution_count": null,
      "outputs": []
    },
    {
      "cell_type": "markdown",
      "source": [
        "Se genera el .html de la animación obtenida."
      ],
      "metadata": {
        "id": "tWskZGAUgdKZ"
      }
    },
    {
      "cell_type": "code",
      "source": [
        "#ani1.save(filename='VillavoExpUrb.html', writer='html')\n",
        "ani1.save('VillavoExpUrb.gif', writer=writer)"
      ],
      "metadata": {
        "id": "T9ZomdN-htzG"
      },
      "execution_count": 13,
      "outputs": []
    },
    {
      "cell_type": "code",
      "source": [
        "#%%capture\n",
        "#!zip -r VillavoExpUrb_frames.zip /content/VillavoExpUrb_frames"
      ],
      "metadata": {
        "id": "AIIf7vhcgi84"
      },
      "execution_count": 14,
      "outputs": []
    },
    {
      "cell_type": "markdown",
      "source": [
        "A continuación se realiza el mismo ejercicio anterior haciendo _zoom_ en un área específica que permita observar el patrón de comportamiento de la expansión en las celdas de la cuadrícula."
      ],
      "metadata": {
        "id": "3MijFHOHfAKm"
      }
    },
    {
      "cell_type": "code",
      "source": [
        "villavo_his_rec = [rec[1900:2000,1850:1950] for rec in villavo_history]\n",
        "ms_frame_interv = 500"
      ],
      "metadata": {
        "id": "r_OG5Wwu5exU"
      },
      "execution_count": 15,
      "outputs": []
    },
    {
      "cell_type": "markdown",
      "source": [
        "Se genera la animación para visualizar el _zoom_."
      ],
      "metadata": {
        "id": "G9rSM1sdfWZ0"
      }
    },
    {
      "cell_type": "code",
      "source": [
        "def update(frame_number, matrix_data, img):\n",
        "  img.set_array( matrix_data[frame_number] )\n",
        "  anyo = 2015+(frame_number*3)\n",
        "  es_simu = np.where(anyo>2025,'\\n (simulación)','')\n",
        "  ax.set_xlabel(f\"{anyo} {es_simu}\")\n",
        "  return img,\n",
        "fig, ax = plt.subplots(figsize=(9,6))\n",
        "img = ax.imshow(villavo_his_rec[0], cmap='gray', animated=True)\n",
        "plt.tick_params(axis='x', which='both', bottom=False, top=False, labelbottom=False)\n",
        "ax.get_yaxis().set_visible(False)\n",
        "ani2 = anim.FuncAnimation(fig, update,  frames=len(villavo_his_rec), fargs=(villavo_his_rec, img), interval=ms_frame_interv, blit=True)\n",
        "plt.close()\n",
        "HTML(ani2.to_jshtml())"
      ],
      "metadata": {
        "id": "bB2hJG_qyNIk"
      },
      "execution_count": null,
      "outputs": []
    },
    {
      "cell_type": "markdown",
      "source": [
        "Se genera el .html de la animación obtenida."
      ],
      "metadata": {
        "id": "QIcUkVQ5hOpS"
      }
    },
    {
      "cell_type": "code",
      "source": [
        "#ani2.save(filename='VillavoExpUrbZoom.html', writer='html')\n",
        "ani2.save('VillavoExpZoom.gif', writer=writer)"
      ],
      "metadata": {
        "id": "CeiO_5Z0hF6J"
      },
      "execution_count": 17,
      "outputs": []
    },
    {
      "cell_type": "code",
      "source": [
        "#%%capture\n",
        "#!zip -r VillavoexpUrbZoom_frames.zip /content/VillavoExpUrbZoom_frames"
      ],
      "metadata": {
        "id": "TVuX6Q1vgr0w"
      },
      "execution_count": 18,
      "outputs": []
    }
  ]
}