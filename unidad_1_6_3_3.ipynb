{
  "nbformat": 4,
  "nbformat_minor": 0,
  "metadata": {
    "colab": {
      "provenance": [],
      "collapsed_sections": [
        "a06KHndoSx_G",
        "IVWCxhRZTaxp",
        "3uGaZ1n-Z41y",
        "Wt-Gggd9Lhfd"
      ],
      "include_colab_link": true
    },
    "kernelspec": {
      "name": "python3",
      "display_name": "Python 3"
    },
    "language_info": {
      "name": "python"
    }
  },
  "cells": [
    {
      "cell_type": "markdown",
      "metadata": {
        "id": "view-in-github",
        "colab_type": "text"
      },
      "source": [
        "<a href=\"https://colab.research.google.com/github/monteroanibal/diplomado_GEOIA_IGAC2025/blob/main/unidad_1_6_3_3.ipynb\" target=\"_parent\"><img src=\"https://colab.research.google.com/assets/colab-badge.svg\" alt=\"Open In Colab\"/></a>"
      ]
    },
    {
      "cell_type": "markdown",
      "source": [
        "# Notebook (III)"
      ],
      "metadata": {
        "id": "RYKFMab8So3h"
      }
    },
    {
      "cell_type": "markdown",
      "source": [
        "---"
      ],
      "metadata": {
        "id": "pfJLP9FBSxGj"
      }
    },
    {
      "cell_type": "markdown",
      "source": [
        "# 1. Cargue de librerías"
      ],
      "metadata": {
        "id": "a06KHndoSx_G"
      }
    },
    {
      "cell_type": "markdown",
      "source": [
        "Para generar los mapas interactivos."
      ],
      "metadata": {
        "id": "dxRLGXsSWOWu"
      }
    },
    {
      "cell_type": "code",
      "source": [
        "import plotly.express as px\n",
        "import plotly.graph_objects as go"
      ],
      "metadata": {
        "id": "99RS9zwVq-Am"
      },
      "execution_count": 15,
      "outputs": []
    },
    {
      "cell_type": "markdown",
      "source": [
        "Para pasar los archivos planos de tablas a GeoDataFrame."
      ],
      "metadata": {
        "id": "AAlU2YWT7kxc"
      }
    },
    {
      "cell_type": "code",
      "source": [
        "import geopandas as gpd\n",
        "import pandas as pd"
      ],
      "metadata": {
        "id": "Ge4hGMKb7ibM"
      },
      "execution_count": 16,
      "outputs": []
    },
    {
      "cell_type": "markdown",
      "source": [
        "# 2. Lectura y manipulación de datos"
      ],
      "metadata": {
        "id": "IVWCxhRZTaxp"
      }
    },
    {
      "cell_type": "markdown",
      "source": [
        "Se descargan las capas que están publicadas en un Github y se descomprimen en la sesión actual."
      ],
      "metadata": {
        "id": "LfQyj50Ca8IK"
      }
    },
    {
      "cell_type": "code",
      "source": [
        "%%capture\n",
        "!wget https://github.com/monteroanibal/diplomado_GEOIA_IGAC2025/raw/refs/heads/main/Insumos/Unidad_1_6_Datos/shapefiles.zip\n",
        "!unzip -o /content/shapefiles.zip\n",
        "!rm /content/shapefiles.zip"
      ],
      "metadata": {
        "id": "KJ544ZnFa8k7"
      },
      "execution_count": 17,
      "outputs": []
    },
    {
      "cell_type": "code",
      "source": [
        "%%capture\n",
        "!wget https://github.com/monteroanibal/diplomado_GEOIA_IGAC2025/raw/refs/heads/main/Insumos/Unidad_1_6_Datos/libros_Excel.zip\n",
        "!unzip -o /content/libros_Excel.zip\n",
        "!rm /content/libros_Excel.zip"
      ],
      "metadata": {
        "id": "wZ-C_ArVbC-7"
      },
      "execution_count": 18,
      "outputs": []
    },
    {
      "cell_type": "markdown",
      "source": [
        "Se importan las capas descargadas."
      ],
      "metadata": {
        "id": "iHmohpcoQ7OE"
      }
    },
    {
      "cell_type": "code",
      "source": [
        "sismos = pd.read_excel(\"/content/libros_Excel/SGC-sismicidad_historica.xlsx\")\n",
        "nacims = pd.read_excel(\"/content/libros_Excel/DANE-EEVV-Nacimientos2023.xlsx\", converters={'DPTO_CODIGO':str})\n",
        "mgndpt = gpd.read_file(\"/content/shapefiles/MGN2023_DPTO_POLITICO/MGN_ADM_DPTO_POLITICO.shp\")"
      ],
      "metadata": {
        "id": "RqWgdk807OTA"
      },
      "execution_count": 19,
      "outputs": []
    },
    {
      "cell_type": "markdown",
      "source": [
        "Se edita el campo de código para que utilice el cero a la izquierda de algunos de los departamentos.\n"
      ],
      "metadata": {
        "id": "eQK9SBdS6Rro"
      }
    },
    {
      "cell_type": "code",
      "source": [
        "nacims.loc[nacims.DPTO_CODIGO == '3', 'DPTO_CODIGO'] = '03'\n",
        "nacims.loc[nacims.DPTO_CODIGO == '5', 'DPTO_CODIGO'] = '05'\n",
        "nacims.loc[nacims.DPTO_CODIGO == '8', 'DPTO_CODIGO'] = '08'"
      ],
      "metadata": {
        "id": "z4hYkT42TLds"
      },
      "execution_count": 20,
      "outputs": []
    },
    {
      "cell_type": "markdown",
      "source": [
        "Se reproyecta la capa de información de MGN para que funcione correctamente la librería _plotly_."
      ],
      "metadata": {
        "id": "LL0e8Fj87X8-"
      }
    },
    {
      "cell_type": "code",
      "source": [
        "mgndpt = mgndpt.to_crs(epsg=4326)"
      ],
      "metadata": {
        "id": "cGy06O2nPV3D"
      },
      "execution_count": 21,
      "outputs": []
    },
    {
      "cell_type": "markdown",
      "source": [
        "Se genera el GeoDataFrame a partir de la tabla de datos importada desde el libro Excel, especificando las coordenadas geográficas como la geometría de punto del mismo."
      ],
      "metadata": {
        "id": "u2QlUiNM7kON"
      }
    },
    {
      "cell_type": "code",
      "source": [
        "sismos = gpd.GeoDataFrame( sismos, geometry=gpd.points_from_xy(sismos.Longitud, sismos.Latitud), crs=\"EPSG:4326\")\n",
        "sismos['Profundidad'] = sismos['Profundidad']*(-1)"
      ],
      "metadata": {
        "id": "GfbpWb3bs55T"
      },
      "execution_count": 22,
      "outputs": []
    },
    {
      "cell_type": "markdown",
      "source": [
        "Por medio del código DIVIPOLA, se cruza los datos geográficos de los departamentos con los de sus respectivas cantidades de nacimientos."
      ],
      "metadata": {
        "id": "a7Eib6_T75Vi"
      }
    },
    {
      "cell_type": "code",
      "source": [
        "nacims = nacims.loc[nacims['Area'] == 'Total']\n",
        "nacims = pd.merge(nacims, mgndpt, left_on='DPTO_CODIGO', right_on='dpto_ccdgo', ).set_geometry(\"geometry\").set_index(\"dpto_cnmbr\")"
      ],
      "metadata": {
        "id": "-iqg8o1GMb4I"
      },
      "execution_count": 23,
      "outputs": []
    },
    {
      "cell_type": "markdown",
      "source": [
        "# 3. Despliegue de scatterplots con _plotly_: sismicidad histórica en Colombia"
      ],
      "metadata": {
        "id": "3uGaZ1n-Z41y"
      }
    },
    {
      "cell_type": "markdown",
      "source": [
        "A continuación, se despliega un diagrama de dispersión a partir de los datos de sismicidad. Se resalta la capacidad de _plotly_ de hacer explorqación interactiva en los gráficos, entre los que está la rotación, el zoom y el despliegue del _tooltip_. Como se observa en el código, el gráfico es recuperable en archivo extensión _.html_."
      ],
      "metadata": {
        "id": "ghsrU_p19IyG"
      }
    },
    {
      "cell_type": "code",
      "source": [
        "fig = px.scatter_3d(sismos, x='Magnitud', y='IntensidadMax', z='Profundidad', color='Magnitud', hover_data=['Area_epicentral','Fecha','Hora_local'])\n",
        "fig.update_layout(\n",
        "    title = 'Sismiscidad histórica en Colombia (SGC)',\n",
        "    height=500, width=700, coloraxis_showscale=False\n",
        ")\n",
        "fig.show()\n",
        "fig.write_html(\"scatterplot_sismicidad.html\")"
      ],
      "metadata": {
        "id": "qRVG6vCk4O9Z"
      },
      "execution_count": null,
      "outputs": []
    },
    {
      "cell_type": "markdown",
      "source": [
        "A continuación, se muestra un ejemplo de generación de diagrama de dispersión por ubicación geográfica. Además de las funcionalidades del anterior gráfico, estas incluyen el desplazamiento."
      ],
      "metadata": {
        "id": "du71GKJc9O7Y"
      }
    },
    {
      "cell_type": "code",
      "source": [
        "sismos['Descripcion'] = sismos['Area_epicentral'] + '<br>Fecha y hora: ' + sismos['Fecha'].astype(str) + ', ' + sismos['Hora_local'].astype(str) + '<br>Magnitud: ' + sismos['Magnitud'].astype(str) + '<br>Profundidad: ' + sismos['Profundidad'].astype(str) + '<br>Intensidad máxima: ' + sismos['IntensidadMax'].astype(str)"
      ],
      "metadata": {
        "id": "3m2ZSJeYzixD"
      },
      "execution_count": 25,
      "outputs": []
    },
    {
      "cell_type": "code",
      "source": [
        "fig = go.Figure( data=go.Scattergeo(\n",
        "  lon = sismos['Longitud'],\n",
        "  lat = sismos['Latitud'],\n",
        "  text = sismos['Descripcion'],\n",
        "  mode = 'markers',\n",
        "  marker = dict(\n",
        "    size = 8,\n",
        "    opacity = 0.8,\n",
        "    reversescale = True,\n",
        "    autocolorscale = False,\n",
        "    symbol = 'square',\n",
        "    line = dict(\n",
        "      width=1,\n",
        "      color='rgba(102, 102, 102)'\n",
        "    ),\n",
        "    colorscale = 'Plasma',\n",
        "    cmin = 0,\n",
        "    color = sismos['Magnitud'],\n",
        "    cmax = sismos['Magnitud'].max(),\n",
        "    colorbar=dict( title=dict( text=\"Magnitud\" ) )\n",
        ") ) )\n",
        "\n",
        "fig.update_geos(projection_type=\"orthographic\")\n",
        "\n",
        "fig.update_layout(\n",
        "    title = 'Sismiscidad histórica en Colombia (SGC)',\n",
        "    height=500, width=700\n",
        ")\n",
        "\n",
        "fig.show()\n",
        "fig.write_html(\"scatterplot_geo_sismicidad.html\")"
      ],
      "metadata": {
        "id": "rSW59R6nttQU"
      },
      "execution_count": null,
      "outputs": []
    },
    {
      "cell_type": "markdown",
      "source": [
        "# 4. Despliegue de cloropletas con _plotly_: Natalidad en Colombia, 2023"
      ],
      "metadata": {
        "id": "Wt-Gggd9Lhfd"
      }
    },
    {
      "cell_type": "markdown",
      "source": [
        "A continuación, se muestra un ejemplo de generación de cloropleta, incluyendo todas las funcionalidades interactivas antes descritas."
      ],
      "metadata": {
        "id": "dPxD4e_u9zAi"
      }
    },
    {
      "cell_type": "code",
      "source": [
        "fig = px.choropleth(\n",
        "  nacims, geojson=nacims.geometry, locations=nacims.index, color=\"Total\",\n",
        "  hover_data=['Peso_2000_2499','Peso_2500_2999','Peso_3000_3499','Peso_3500_3999','Peso_4000_y_mas','Sin_informacion']\n",
        ")\n",
        "\n",
        "fig.update_geos(fitbounds=\"locations\")\n",
        "fig.update_layout(\n",
        "  title = 'Natalidad en Colombia, 2023 (DANE-EEVV)',\n",
        "  height=500, width=700\n",
        ")\n",
        "fig.show()\n",
        "fig.write_html(\"/content/cloropleta_plotly_natalidad.html\")"
      ],
      "metadata": {
        "id": "yPsaSWNTLXWp"
      },
      "execution_count": null,
      "outputs": []
    },
    {
      "cell_type": "markdown",
      "source": [
        "**<center>Un aviso**</center>"
      ],
      "metadata": {
        "id": "tg57305W-KBx"
      }
    },
    {
      "cell_type": "markdown",
      "source": [
        "_plotly_ es una herramienta inicial para el desarrollo web que da paso al _framework_ llamado _dash_, con el que se puede incluir la funcionalidad de filtrado y de _tooltip_ cruzado, similar a los despliegues de sowtware para Inteligencia de Negocios, como _PowerBI_ y Tableau."
      ],
      "metadata": {
        "id": "L46megBj-GxW"
      }
    }
  ]
}