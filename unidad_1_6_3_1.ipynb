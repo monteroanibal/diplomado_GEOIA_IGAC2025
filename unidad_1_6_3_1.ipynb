{
  "nbformat": 4,
  "nbformat_minor": 0,
  "metadata": {
    "colab": {
      "provenance": [],
      "collapsed_sections": [
        "a06KHndoSx_G",
        "IVWCxhRZTaxp",
        "3uGaZ1n-Z41y",
        "rKCHR5XJae14"
      ],
      "include_colab_link": true
    },
    "kernelspec": {
      "name": "python3",
      "display_name": "Python 3"
    },
    "language_info": {
      "name": "python"
    }
  },
  "cells": [
    {
      "cell_type": "markdown",
      "metadata": {
        "id": "view-in-github",
        "colab_type": "text"
      },
      "source": [
        "<a href=\"https://colab.research.google.com/github/monteroanibal/diplomado_GEOIA_IGAC2025/blob/main/unidad_1_6_3_1.ipynb\" target=\"_parent\"><img src=\"https://colab.research.google.com/assets/colab-badge.svg\" alt=\"Open In Colab\"/></a>"
      ]
    },
    {
      "cell_type": "markdown",
      "source": [
        "# Notebook (I)"
      ],
      "metadata": {
        "id": "RYKFMab8So3h"
      }
    },
    {
      "cell_type": "markdown",
      "source": [
        "---"
      ],
      "metadata": {
        "id": "pfJLP9FBSxGj"
      }
    },
    {
      "cell_type": "markdown",
      "source": [
        "# 1. Cargue de librerías"
      ],
      "metadata": {
        "id": "a06KHndoSx_G"
      }
    },
    {
      "cell_type": "markdown",
      "source": [
        "Para importar shapefiles como _GeoDataFrames_."
      ],
      "metadata": {
        "id": "HAMBlthaWKE9"
      }
    },
    {
      "cell_type": "code",
      "source": [
        "import geopandas as gpd\n",
        "import pandas as pd; pd.set_option('display.float_format', lambda x: '%.1f' % x)"
      ],
      "metadata": {
        "id": "Ox-lNE1y4woK"
      },
      "execution_count": 1,
      "outputs": []
    },
    {
      "cell_type": "markdown",
      "source": [
        "Para generar los mapas interactivos."
      ],
      "metadata": {
        "id": "dxRLGXsSWOWu"
      }
    },
    {
      "cell_type": "code",
      "source": [
        "%%capture\n",
        "!pip install pydeck\n",
        "import pydeck as pdk"
      ],
      "metadata": {
        "id": "E5mqJkcSCw06"
      },
      "execution_count": 2,
      "outputs": []
    },
    {
      "cell_type": "markdown",
      "source": [
        "Para hacer cambios en los formatos de los datos."
      ],
      "metadata": {
        "id": "qM5slDzkWS4Y"
      }
    },
    {
      "cell_type": "code",
      "source": [
        "import json\n",
        "import numpy as np"
      ],
      "metadata": {
        "id": "K56h_D1IB6jn"
      },
      "execution_count": 3,
      "outputs": []
    },
    {
      "cell_type": "markdown",
      "source": [
        "Para cronometrar el tiempo de ejecución de los renders de los mapas interactivos."
      ],
      "metadata": {
        "id": "UDRYWrpVdhk6"
      }
    },
    {
      "cell_type": "code",
      "source": [
        "from time import time"
      ],
      "metadata": {
        "id": "_N_UrMBwdrGr"
      },
      "execution_count": 4,
      "outputs": []
    },
    {
      "cell_type": "markdown",
      "source": [
        "# 2. Lectura y manipulación de datos vectoriales"
      ],
      "metadata": {
        "id": "IVWCxhRZTaxp"
      }
    },
    {
      "cell_type": "markdown",
      "source": [
        "Se descargan los shapefiles que están publicados en un Github y se descomprimen en la sesión actual."
      ],
      "metadata": {
        "id": "ubHlIYr7Ubaz"
      }
    },
    {
      "cell_type": "code",
      "source": [
        "%%capture\n",
        "!wget https://github.com/monteroanibal/diplomado_GEOIA_IGAC2025/raw/refs/heads/main/Insumos/Unidad_1_6_Datos/shapefiles.zip\n",
        "!unzip -o /content/shapefiles.zip\n",
        "!rm /content/shapefiles.zip"
      ],
      "metadata": {
        "id": "JNHRjONnUawz"
      },
      "execution_count": 5,
      "outputs": []
    },
    {
      "cell_type": "markdown",
      "source": [
        "Se descargan los datos que se encuentran publicados en un GitHub y se descomprimen en la sesión actual."
      ],
      "metadata": {
        "id": "iHmohpcoQ7OE"
      }
    },
    {
      "cell_type": "code",
      "source": [
        "mpio_chia = gpd.read_file(\"/content/shapefiles/Mpio_Chia/Mpio_Chia.shp\")\n",
        "mzn_cnpv_2018 = gpd.read_file(\"/content/shapefiles/Censo_DANE_2018/Censo_DANE_2018.shp\")\n",
        "construc_2018 = gpd.read_file(\"/content/shapefiles/Construccion/Construccion.shp\")"
      ],
      "metadata": {
        "id": "ObJZqkkLAWRc"
      },
      "execution_count": 6,
      "outputs": []
    },
    {
      "cell_type": "markdown",
      "source": [
        "Se toman unicamente los campos necesarios para construir los mapas interactivos."
      ],
      "metadata": {
        "id": "ABHUAvkBQ8h0"
      }
    },
    {
      "cell_type": "code",
      "source": [
        "mzn_cnpv_2018 = mzn_cnpv_2018[['TVIVIENDA','TP16_HOG','TP27_PERSO','geometry']]"
      ],
      "metadata": {
        "id": "SgjRvxgXCH4L"
      },
      "execution_count": 7,
      "outputs": []
    },
    {
      "cell_type": "code",
      "source": [
        "construc_2018 = construc_2018[['tipo_const','tipo_domin','numero_pis','geometry']]\n",
        "construc_2018['area_calc'] = construc_2018['geometry'].to_crs(epsg=3116).area"
      ],
      "metadata": {
        "id": "siyiZQc9W7x8"
      },
      "execution_count": 8,
      "outputs": []
    },
    {
      "cell_type": "markdown",
      "source": [
        "Para realizar una extrusión en el mapa, es necesario escalar uno de los atributos numéricos de la capa de información entre 0 y 1."
      ],
      "metadata": {
        "id": "7Q_nZPPVRECm"
      }
    },
    {
      "cell_type": "code",
      "source": [
        "mzn_cnpv_2018[['personas_norm']] = (mzn_cnpv_2018[['TP27_PERSO']]-mzn_cnpv_2018[['TP27_PERSO']].min())/(mzn_cnpv_2018[['TP27_PERSO']].max()-mzn_cnpv_2018[['TP27_PERSO']].min())"
      ],
      "metadata": {
        "id": "Z09AucWvJykc"
      },
      "execution_count": 9,
      "outputs": []
    },
    {
      "cell_type": "code",
      "source": [
        "construc_2018[['num_pis_norm']] = (construc_2018[['numero_pis']]-construc_2018[['numero_pis']].min())/(construc_2018[['numero_pis']].max()-construc_2018[['numero_pis']].min())"
      ],
      "metadata": {
        "id": "AZotCBATYMa1"
      },
      "execution_count": 10,
      "outputs": []
    },
    {
      "cell_type": "markdown",
      "source": [
        "Para que la interactividad nos muestre los atributos de cada manzana y edificio en la capa de información de forma resumida, se convierten los valores tipo _float_ a valores tipo _int_."
      ],
      "metadata": {
        "id": "hN0d1JPaRXGU"
      }
    },
    {
      "cell_type": "code",
      "source": [
        "mzn_cnpv_2018[['TVIVIENDA','TP16_HOG','TP27_PERSO']] = mzn_cnpv_2018[['TVIVIENDA','TP16_HOG','TP27_PERSO']].map(np.int64)"
      ],
      "metadata": {
        "id": "lwts3zDDNLDr"
      },
      "execution_count": 11,
      "outputs": []
    },
    {
      "cell_type": "code",
      "source": [
        "construc_2018[['numero_pis','area_calc']] = construc_2018[['numero_pis','area_calc']].map(np.int64)"
      ],
      "metadata": {
        "id": "KTlUTqHEYnKv"
      },
      "execution_count": 12,
      "outputs": []
    },
    {
      "cell_type": "markdown",
      "source": [
        "La librería requiere que la capa de información sea convertida a un formato de datos tipo _json_. Se verifican los valores de los campos en la primera entrada de la capa de información."
      ],
      "metadata": {
        "id": "tWSVgP-3Rx_8"
      }
    },
    {
      "cell_type": "code",
      "source": [
        "mzn_cnpv_2018_yeison = json.loads(mzn_cnpv_2018.to_json())\n",
        "mzn_cnpv_2018_yeison[\"features\"][0][\"properties\"]"
      ],
      "metadata": {
        "colab": {
          "base_uri": "https://localhost:8080/"
        },
        "id": "H5q2wXeBBqsP",
        "outputId": "74d5cea6-fe6e-4585-a9a9-7812c5895330"
      },
      "execution_count": 13,
      "outputs": [
        {
          "output_type": "execute_result",
          "data": {
            "text/plain": [
              "{'TVIVIENDA': 48,\n",
              " 'TP16_HOG': 63,\n",
              " 'TP27_PERSO': 162,\n",
              " 'personas_norm': 0.0739051094890511}"
            ]
          },
          "metadata": {},
          "execution_count": 13
        }
      ]
    },
    {
      "cell_type": "code",
      "source": [
        "construc_2018_yeison = json.loads(construc_2018.to_json())\n",
        "construc_2018_yeison[\"features\"][0][\"properties\"]"
      ],
      "metadata": {
        "colab": {
          "base_uri": "https://localhost:8080/"
        },
        "id": "VSR1w6WrYvXj",
        "outputId": "ec74a2ed-1e95-4333-8ff0-5b6c95bd6044"
      },
      "execution_count": 14,
      "outputs": [
        {
          "output_type": "execute_result",
          "data": {
            "text/plain": [
              "{'tipo_const': 'CONVENCIONAL',\n",
              " 'tipo_domin': 'PRIVADO',\n",
              " 'numero_pis': 2,\n",
              " 'area_calc': 155,\n",
              " 'num_pis_norm': 0.14285714285714285}"
            ]
          },
          "metadata": {},
          "execution_count": 14
        }
      ]
    },
    {
      "cell_type": "markdown",
      "source": [
        "# 3. Despliegue de mapa interactivo con _pydeck_: manzanas"
      ],
      "metadata": {
        "id": "3uGaZ1n-Z41y"
      }
    },
    {
      "cell_type": "markdown",
      "source": [
        "Se configura la visualización para que se ubique sobre el municipio de Chía."
      ],
      "metadata": {
        "id": "Q031BZSDSP5o"
      }
    },
    {
      "cell_type": "code",
      "source": [
        "init_view_state = pdk.ViewState(\n",
        "  longitude = mpio_chia.LONGITUD.tolist()[0],\n",
        "  latitude = mpio_chia.LATITUD.tolist()[0],\n",
        "  zoom=11.5,\n",
        "  max_zoom=16,\n",
        "  pitch=30,\n",
        "  bearing=0\n",
        ")"
      ],
      "metadata": {
        "id": "A2sK4k6wE-k9"
      },
      "execution_count": 15,
      "outputs": []
    },
    {
      "cell_type": "markdown",
      "source": [
        "Se configura la capa de información para ser visualizada."
      ],
      "metadata": {
        "id": "Aq4YJf01ScK2"
      }
    },
    {
      "cell_type": "code",
      "source": [
        "r = \"100\"\n",
        "g = \"255\"\n",
        "b = \"properties.personas_norm * 255\"\n",
        "fill = f\"[{r},{g},{b}]\"\n",
        "\n",
        "capa_manzanas = pdk.Layer(\n",
        "  'GeoJsonLayer',\n",
        "  mzn_cnpv_2018_yeison,\n",
        "  opacity=0.8,\n",
        "  pickable=True,\n",
        "  stroked=True,\n",
        "  filled=True,\n",
        "  extruded=True,\n",
        "  wireframe=True,\n",
        "  auto_highlight=True,\n",
        "  get_elevation=\"properties.personas_norm * 10\",\n",
        "  elevation_scale=100,\n",
        "  get_fill_color=fill,\n",
        ")"
      ],
      "metadata": {
        "id": "LQoXvLnfJiky"
      },
      "execution_count": 16,
      "outputs": []
    },
    {
      "cell_type": "markdown",
      "source": [
        "Se configura la información desplegada durante la navegación con el cursor."
      ],
      "metadata": {
        "id": "SfyivjXKSrcP"
      }
    },
    {
      "cell_type": "code",
      "source": [
        "tooltip = {\"text\": \"Núm. viviendas: {TVIVIENDA}\\nNúm. hogares: {TP16_HOG}\\nNúm. personas: {TP27_PERSO}\"}"
      ],
      "metadata": {
        "id": "TPFx_G0tbdbp"
      },
      "execution_count": 17,
      "outputs": []
    },
    {
      "cell_type": "markdown",
      "source": [
        "Se ejecuta el render de la visualización y se mide el tiempo que está tardando en hacer la tarea."
      ],
      "metadata": {
        "id": "P-AlxQOES2rm"
      }
    },
    {
      "cell_type": "code",
      "source": [
        "empieza = time()"
      ],
      "metadata": {
        "id": "nE3GyZeyhm7C"
      },
      "execution_count": 18,
      "outputs": []
    },
    {
      "cell_type": "code",
      "source": [
        "r = pdk.Deck(\n",
        "  layers=[capa_manzanas],\n",
        "  initial_view_state=init_view_state,\n",
        "  tooltip=tooltip,\n",
        "  map_style=pdk.map_styles.DARK,\n",
        ")\n",
        "r.to_html()"
      ],
      "metadata": {
        "id": "3SimZBTNFYzv"
      },
      "execution_count": null,
      "outputs": []
    },
    {
      "cell_type": "code",
      "source": [
        "print('Tiempo de renderización en segundos: ', round(time()-empieza,3))"
      ],
      "metadata": {
        "colab": {
          "base_uri": "https://localhost:8080/"
        },
        "id": "ZZ6ezmO_hkmG",
        "outputId": "5b6eb03c-8509-4094-c594-03da45ca56a7"
      },
      "execution_count": 20,
      "outputs": [
        {
          "output_type": "stream",
          "name": "stdout",
          "text": [
            "Tiempo de renderización en segundos:  0.468\n"
          ]
        }
      ]
    },
    {
      "cell_type": "markdown",
      "source": [
        "# 4. Despliegue de mapa interactivo con _pydeck_: construcciones"
      ],
      "metadata": {
        "id": "rKCHR5XJae14"
      }
    },
    {
      "cell_type": "markdown",
      "source": [
        "Se configura la visualización para que se ubique sobre el municipio de Chía."
      ],
      "metadata": {
        "id": "N0bb6pdXiw5e"
      }
    },
    {
      "cell_type": "code",
      "source": [
        "init_view_state = pdk.ViewState(\n",
        "  longitude = mpio_chia.LONGITUD.tolist()[0],\n",
        "  latitude = mpio_chia.LATITUD.tolist()[0],\n",
        "  zoom=12,\n",
        "  max_zoom=18,\n",
        "  pitch=60,\n",
        "  bearing=180,\n",
        ")"
      ],
      "metadata": {
        "id": "tIlE2SrViwTN"
      },
      "execution_count": 21,
      "outputs": []
    },
    {
      "cell_type": "markdown",
      "source": [
        "Se configura la capa de información para ser visualizada."
      ],
      "metadata": {
        "id": "bxn3pjwea-y4"
      }
    },
    {
      "cell_type": "code",
      "source": [
        "r = \"properties.num_pis_norm * 30\"\n",
        "g = \"30\"\n",
        "b = \"220\"\n",
        "fill = f\"[{r},{g},{b}]\"\n",
        "\n",
        "capa_construcciones = pdk.Layer(\n",
        "  'GeoJsonLayer',\n",
        "  construc_2018_yeison,\n",
        "  opacity=0.05,\n",
        "  pickable=True,\n",
        "  stroked=True,\n",
        "  filled=True,\n",
        "  extruded=True,\n",
        "  wireframe=True,\n",
        "  auto_highlight=True,\n",
        "  get_elevation=\"0.05 + ( properties.num_pis_norm * 3 / 4 )\",\n",
        "  elevation_scale=100,\n",
        "  get_fill_color=fill,\n",
        ")"
      ],
      "metadata": {
        "id": "lRkOYP22a3xc"
      },
      "execution_count": 22,
      "outputs": []
    },
    {
      "cell_type": "markdown",
      "source": [
        "Se configura la información desplegada durante la navegación con el cursor."
      ],
      "metadata": {
        "id": "cxRuuTzUbRCT"
      }
    },
    {
      "cell_type": "code",
      "source": [
        "tooltip = {\"text\": \"Núm. pisos: {numero_pis}\\nÁrea construida: {area_calc}\\nTipo de construcción: {tipo_const}\\nTipo de dominio: {tipo_domin}\"}"
      ],
      "metadata": {
        "id": "xiUR6Si9JoZm"
      },
      "execution_count": 23,
      "outputs": []
    },
    {
      "cell_type": "markdown",
      "source": [
        "Se ejecuta el render de la visualización."
      ],
      "metadata": {
        "id": "vZq32NBbbGdI"
      }
    },
    {
      "cell_type": "code",
      "source": [
        "empieza = time()"
      ],
      "metadata": {
        "id": "iKXgaNZahbiL"
      },
      "execution_count": 24,
      "outputs": []
    },
    {
      "cell_type": "code",
      "source": [
        "r = pdk.Deck(\n",
        "  layers=[capa_construcciones],\n",
        "  initial_view_state=init_view_state,\n",
        "  tooltip=tooltip,\n",
        "  map_style=pdk.map_styles.ROAD,\n",
        ")\n",
        "r.to_html()"
      ],
      "metadata": {
        "id": "ui7JaltGbJX5"
      },
      "execution_count": null,
      "outputs": []
    },
    {
      "cell_type": "code",
      "source": [
        "print('Tiempo de renderización en segundos: ', round(time()-empieza,3))"
      ],
      "metadata": {
        "colab": {
          "base_uri": "https://localhost:8080/"
        },
        "id": "zqLjmbzMhfTi",
        "outputId": "d1de2523-bb4a-4741-db52-effb833d4ec8"
      },
      "execution_count": 26,
      "outputs": [
        {
          "output_type": "stream",
          "name": "stdout",
          "text": [
            "Tiempo de renderización en segundos:  6.098\n"
          ]
        }
      ]
    },
    {
      "cell_type": "markdown",
      "source": [
        "**<center>Un consejo**</center>"
      ],
      "metadata": {
        "id": "3ypSBhBlahGO"
      }
    },
    {
      "cell_type": "markdown",
      "source": [
        "_pydeck_ no indica errores durante el desarrollo del código ni cuando los datos de la capa no están formateados correctamente. Esto puede resultar en tiempos de renderizado largos, solo para descubrir que tienes un mapa vacío. Para solucionar esto, es mejor optar por trabajar con el encabezado o una pequeña muestra de los datos hasta que el mapa funcione correctamente."
      ],
      "metadata": {
        "id": "YR9xiH1RTNbW"
      }
    }
  ]
}